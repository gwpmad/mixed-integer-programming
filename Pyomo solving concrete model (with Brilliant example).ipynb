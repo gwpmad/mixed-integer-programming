{
 "cells": [
  {
   "cell_type": "code",
   "execution_count": 4,
   "id": "c1add6b3",
   "metadata": {},
   "outputs": [
    {
     "ename": "ModuleNotFoundError",
     "evalue": "No module named 'numpy'",
     "output_type": "error",
     "traceback": [
      "\u001b[0;31m---------------------------------------------------------------------------\u001b[0m",
      "\u001b[0;31mModuleNotFoundError\u001b[0m                       Traceback (most recent call last)",
      "Cell \u001b[0;32mIn[4], line 4\u001b[0m\n\u001b[1;32m      1\u001b[0m \u001b[38;5;66;03m# we are solving a system of equations some of which have integer variables and some of which are just 'reals' (not constrained to be an integer)\u001b[39;00m\n\u001b[1;32m      2\u001b[0m \u001b[38;5;66;03m# therefore this is a mixed integer program\u001b[39;00m\n\u001b[1;32m      3\u001b[0m \u001b[38;5;28;01mimport\u001b[39;00m \u001b[38;5;21;01mpyomo\u001b[39;00m\u001b[38;5;21;01m.\u001b[39;00m\u001b[38;5;21;01menviron\u001b[39;00m \u001b[38;5;28;01mas\u001b[39;00m \u001b[38;5;21;01mpyo\u001b[39;00m\n\u001b[0;32m----> 4\u001b[0m \u001b[38;5;28;01mimport\u001b[39;00m \u001b[38;5;21;01mnumpy\u001b[39;00m \u001b[38;5;28;01mas\u001b[39;00m \u001b[38;5;21;01mnp\u001b[39;00m\n\u001b[1;32m      6\u001b[0m \u001b[38;5;66;03m# based on this: https://pyomo.readthedocs.io/en/stable/pyomo_overview/simple_examples.html#a-simple-concrete-pyomo-model\u001b[39;00m\n\u001b[1;32m      8\u001b[0m model \u001b[38;5;241m=\u001b[39m pyo\u001b[38;5;241m.\u001b[39mConcreteModel()\n",
      "\u001b[0;31mModuleNotFoundError\u001b[0m: No module named 'numpy'"
     ]
    }
   ],
   "source": [
    "# we are solving a system of equations some of which have integer variables and some of which are just 'reals' (not constrained to be an integer)\n",
    "# therefore this is a mixed integer program\n",
    "import pyomo.environ as pyo\n",
    "import numpy as np\n",
    "\n",
    "# based on this: https://pyomo.readthedocs.io/en/stable/pyomo_overview/simple_examples.html#a-simple-concrete-pyomo-model\n",
    "\n",
    "model = pyo.ConcreteModel()\n",
    "\n",
    "# define our variables\n",
    "# pyo.NonNegativeReals = linear programming (non ints allowed), pyo.Integer = Integer Programming\n",
    "model.x = pyo.Var([0,1], domain=pyo.NonNegativeReals)\n",
    "model.y = pyo.Var(domain=pyo.Integers)\n",
    "\n",
    "# define our objective - in the Brilliant example, the profit we make. We want to maximise this\n",
    "# model.OBJ = pyo.Objective(expr = 4*model.x[0] + 3*model.x[1] + model.y, sense=pyo.maximize)\n",
    "\n",
    "z = np.dot(np.array([[4], [3]]), np.array([[model.x[0]], [model.x[1]]]))\n",
    "\n",
    "model.OBJ = pyo.Objective(expr = z + model.y, sense=pyo.maximize)\n",
    "\n",
    "# define our 'system of linear constraints'\n",
    "# we changed 4 to 4.1 so that the results are no longer integers (instead they're reals) - the Brilliant example had been calibrated to result in integers for convenience\n",
    "model.Constraint1 = pyo.Constraint(expr = 2*model.x[0] + 4.1*model.x[1] <= 220)\n",
    "model.Constraint2 = pyo.Constraint(expr = 3*model.x[0] + 2*model.x[1] <= 150)\n",
    "model.Constraint3 = pyo.Constraint(expr = model.y <= 3.5)"
   ]
  },
  {
   "cell_type": "code",
   "execution_count": 37,
   "id": "720f8b48",
   "metadata": {},
   "outputs": [
    {
     "data": {
      "text/plain": [
       "<pyomo.core.base.PyomoModel.ConcreteModel at 0x108648f00>"
      ]
     },
     "execution_count": 37,
     "metadata": {},
     "output_type": "execute_result"
    }
   ],
   "source": [
    "model"
   ]
  },
  {
   "cell_type": "code",
   "execution_count": 42,
   "id": "8675c852",
   "metadata": {},
   "outputs": [
    {
     "data": {
      "text/plain": [
       "{'Problem': [{'Name': 'unknown', 'Lower bound': 217.457831325301, 'Upper bound': 217.457831325301, 'Number of objectives': 1, 'Number of constraints': 3, 'Number of variables': 3, 'Number of nonzeros': 5, 'Sense': 'maximize'}], 'Solver': [{'Status': 'ok', 'Termination condition': 'optimal', 'Statistics': {'Branch and bound': {'Number of bounded subproblems': '1', 'Number of created subproblems': '1'}}, 'Error rc': 0, 'Time': 0.014885187149047852}], 'Solution': [OrderedDict([('number of solutions', 0), ('number of solutions displayed', 0)])]}"
      ]
     },
     "execution_count": 42,
     "metadata": {},
     "output_type": "execute_result"
    }
   ],
   "source": [
    "opt = pyo.SolverFactory('glpk')\n",
    "opt.solve(model) "
   ]
  },
  {
   "cell_type": "code",
   "execution_count": 43,
   "id": "c2470ca2",
   "metadata": {},
   "outputs": [
    {
     "data": {
      "text/plain": [
       "<pyomo.core.base.set.DeclareGlobalSet.<locals>.GlobalSet at 0x106385970>"
      ]
     },
     "execution_count": 43,
     "metadata": {},
     "output_type": "execute_result"
    }
   ],
   "source": [
    "pyo.Integers"
   ]
  },
  {
   "cell_type": "code",
   "execution_count": 44,
   "id": "ce2f00fd",
   "metadata": {},
   "outputs": [
    {
     "data": {
      "text/plain": [
       "<pyomo.core.base.var.IndexedVar at 0x1090aa7d0>"
      ]
     },
     "execution_count": 44,
     "metadata": {},
     "output_type": "execute_result"
    }
   ],
   "source": [
    "model.x"
   ]
  },
  {
   "cell_type": "code",
   "execution_count": 45,
   "id": "43387e14",
   "metadata": {},
   "outputs": [
    {
     "data": {
      "text/plain": [
       "21.0843373493976"
      ]
     },
     "execution_count": 45,
     "metadata": {},
     "output_type": "execute_result"
    }
   ],
   "source": [
    "# solution for x0\n",
    "model.x[0].value"
   ]
  },
  {
   "cell_type": "code",
   "execution_count": 46,
   "id": "5a0dc094",
   "metadata": {},
   "outputs": [
    {
     "data": {
      "text/plain": [
       "43.3734939759036"
      ]
     },
     "execution_count": 46,
     "metadata": {},
     "output_type": "execute_result"
    }
   ],
   "source": [
    "# solution for x1\n",
    "model.x[1].value"
   ]
  },
  {
   "cell_type": "code",
   "execution_count": 47,
   "id": "bbc48ecc",
   "metadata": {},
   "outputs": [
    {
     "data": {
      "text/plain": [
       "3.0"
      ]
     },
     "execution_count": 47,
     "metadata": {},
     "output_type": "execute_result"
    }
   ],
   "source": [
    "# it's found the biggest integer y that it's allowed (because we said y has to be integer)\n",
    "model.y.value"
   ]
  },
  {
   "cell_type": "code",
   "execution_count": null,
   "id": "1e0ccc41",
   "metadata": {},
   "outputs": [],
   "source": []
  }
 ],
 "metadata": {
  "kernelspec": {
   "display_name": "Python 3 (ipykernel)",
   "language": "python",
   "name": "python3"
  },
  "language_info": {
   "codemirror_mode": {
    "name": "ipython",
    "version": 3
   },
   "file_extension": ".py",
   "mimetype": "text/x-python",
   "name": "python",
   "nbconvert_exporter": "python",
   "pygments_lexer": "ipython3",
   "version": "3.11.3"
  }
 },
 "nbformat": 4,
 "nbformat_minor": 5
}
